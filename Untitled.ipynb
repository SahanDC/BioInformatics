{
 "cells": [
  {
   "cell_type": "code",
   "execution_count": 5,
   "id": "6668b962",
   "metadata": {},
   "outputs": [
    {
     "name": "stdout",
     "output_type": "stream",
     "text": [
      "ACC values in file1 not in file2: {'Q8LFP9', 'P23604', 'Q9FRK5', 'P05166', 'D3ZAW2', 'Q9TWL9', 'P0C1Y9', 'Q8VZJ2', 'P84787', 'P69391', 'A2AVQ5', 'P0C1Z0', 'Q91826', 'Q9LXU0', 'Q99134', 'P60022', 'P31431-2', 'P35477', 'P85109', 'P83911', 'P00288', 'P0DJ86', 'P92935', 'Q86QI5', 'P56271', 'P86500', 'Q9ZQX4', 'Q90ZD5', 'B3EWT3', 'Q99NB1', 'P84033', 'Q9PT51', 'P81661', 'Q8BSF4', 'B3A0P0', 'P83553', 'P0CI04', 'P83800', 'P23605', 'P35476', 'P86947', 'P35036', 'P84809', 'P83411', 'Q99N93', 'P0DL48', 'B3EWT2', 'P00298', 'P83428', 'D0VWU3', 'Q9CQL4'}\n",
      "ACC values in file2 not in file1: {'O80623', 'Q96PG8', 'Q801X7', 'Q9GSA4', 'Q9SIA5', 'P83211', 'Q5M775-4', 'Q86QV0', 'P81996', 'O48809', 'Q9NRY7', 'P86099', 'P84012', 'P85506', 'P60773', 'Q24573', 'Q9ZPH9', 'Q01130', 'Q99684', 'P25682', 'D2X5V5', 'P60237', 'P84014', 'P68418', 'Q3T906', 'P68417', 'Q9TXJ0', 'O57579', 'Q9P347', 'P83212', 'Q9LVI6', 'P18125', 'P68413', 'Q9XIM7', 'Q9JMF7', 'P0DKC4', 'P59939', 'O35286', 'Q5W7F1', 'Q0WT31', 'Q8RWZ5', 'P19146', 'O76199', 'Q9SXB8', 'Q8VY97', 'Q17328', 'Q08GK9', 'P68419', 'P0DKB7', 'Q9Y232', 'Q5VV42', 'Q9BPJ7', 'D4AQ27', 'Q75KU4', 'P33766', 'Q05481', 'Q8R4I7', 'Q9LZA4', 'P06242', 'O04529', 'Q9VBL6', 'P0DKB8', 'P00300', 'P30825', 'P25683', 'Q9ZWA1', 'Q6TBX7', 'O94365', 'C0LGS2', 'Q9XH37', 'P69243', 'Q6E213', 'P21917', 'O49519', 'Q9PSN1', 'P22309-2', 'P83441', 'Q9LZP8', 'Q10124', 'Q9ZPR4', 'Q9SSL9', 'Q9BQ31', 'P86791', 'P59598', 'P83523', 'P60774', 'P0DMT2', 'O13807', 'P85174', 'O60216', 'P63007', 'Q9UUK1', 'P0C8M0', 'Q7T3J2', 'O22263', 'Q9FKV1', 'Q6F6B3', 'P25680', 'Q64K34', 'P25518', 'P85059', 'C0LGH3', 'O43909', 'P34073', 'C0LGN2', 'P82172', 'Q8K1D8', 'Q8QGC4', 'P62389', 'P84715', 'Q91XT9', 'Q91XR8', 'O35174', 'Q2L6L1', 'P0C5E2-2', 'P34075', 'Q8GWW6', 'Q9LN50', 'P60772', 'O22268', 'P84651', 'G3V6S8', 'Q9C6S7', 'Q3TWW8', 'P20095', 'P32597', 'P07834', 'Q96IZ2', 'D4ARB1', 'Q8H118', 'Q96L58', 'Q84VQ3', 'Q8WT57', 'P54733', 'Q96LA8', 'M1JBC0', 'Q8JZW5', 'P34074', 'P55318', 'P85436', 'P68412', 'Q5M775-5', 'P10458', 'P00998', 'Q93YV7', 'O02350', 'G5EEH9', 'P60234', 'Q9JHE3', 'C0LGG8', 'P83997', 'Q9T0K5', 'Q9NX52', 'P86097', 'C0LGH2', 'Q8L7V3', 'P68163', 'P83213', 'Q8L8Z1', 'Q93VK5', 'Q9NII5', 'Q6NPR7', 'Q6NPF9', 'Q84W98', 'P10796', 'P84011', 'P53566-5', 'Q9NR71', 'Q9P3E8', 'Q8N4T4', 'Q08619', 'B9DFG5', 'Q07651', 'Q9EPZ6', 'Q0WL80', 'Q9BRL6', 'Q9LV48', 'P28845', 'O42978', 'D4AD53', 'P81031', 'Q5XF51', 'P0DKB9', 'P67779', 'Q5XKR4', 'Q12025', 'Q9LUW0', 'P40010', 'Q6T5L0', 'P29182', 'P52193', 'P07465', 'P52032', 'P10460', 'Q0VZ41', 'P69246', 'P83266', 'P01409', 'Q99929', 'Q91XR9', 'P86981', 'P12100', 'Q940J9', 'Q9XEC4', 'P83267', 'Q6PAJ1', 'Q7XA87', 'Q08214', 'P53226', 'P25687', 'Q5M775-3', 'Q8VC33', 'B9DFI7', 'P86419', 'P83704', 'P33533', 'Q16670', 'P0C892', 'Q8R4E9', 'C0LGD7', 'Q1ELV0', 'P11881', 'Q9SD53', 'Q9Z2A7', 'P0DKC3', 'Q42440', 'O02326', 'Q8VZV7', 'P83871', 'P14613', 'Q9LFN6', 'O35173', 'P60771', 'Q9ZUJ5', 'Q8H1G6', 'Q8MKK4', 'O00478', 'Q9VD51', 'P21462', 'P29180', 'Q8VHW2', 'P86094', 'Q9WTK2', 'P83580', 'P25122', 'P84631', 'F4IAW1', 'A2YH60', 'Q9FMY1', 'Q94EJ6', 'Q9LEW8', 'P81030', 'C0LGK4', 'Q84WN0', 'P84818', 'Q8VHW8', 'O23507', 'P84810', 'Q9PSM9', 'O59702', 'Q9SIZ3', 'P83893', 'Q9VEC3', 'O16299', 'Q9PSM8', 'Q96FC9', 'Q9UBM7', 'Q9Y6B7', 'Q8W486', 'A1L4X0', 'P83942', 'Q7XBS0', 'Q99MR0', 'Q9CXW4', 'P86096', 'P86389', 'Q02013', 'Q8L586', 'O82352', 'Q9PSN6', 'P0CW71', 'P68164'}\n",
      "Maximum length of Sequence in file1: 34350\n",
      "Maximum length of Sequence in file2: 34350\n"
     ]
    }
   ],
   "source": [
    "import pandas as pd\n",
    "\n",
    "# Load the CSV files\n",
    "file1 = pd.read_csv('multisub_5_partitions_unique.csv')\n",
    "file2 = pd.read_csv('data_files/multisub_5_partitions_unique.csv')\n",
    "\n",
    "# Find ACC values unique to each file\n",
    "unique_to_file1 = set(file1['ACC']) - set(file2['ACC'])\n",
    "unique_to_file2 = set(file2['ACC']) - set(file1['ACC'])\n",
    "\n",
    "# Print the unique ACC values\n",
    "print(\"ACC values in file1 not in file2:\", unique_to_file1)\n",
    "print(\"ACC values in file2 not in file1:\", unique_to_file2)\n",
    "\n",
    "# Find the maximum length of the Sequence value in each file\n",
    "max_length_file1 = file1['Sequence'].str.len().max()\n",
    "max_length_file2 = file2['Sequence'].str.len().max()\n",
    "\n",
    "# Print the maximum lengths\n",
    "print(\"Maximum length of Sequence in file1:\", max_length_file1)\n",
    "print(\"Maximum length of Sequence in file2:\", max_length_file2)"
   ]
  },
  {
   "cell_type": "code",
   "execution_count": 6,
   "id": "fa078203",
   "metadata": {},
   "outputs": [
    {
     "name": "stdout",
     "output_type": "stream",
     "text": [
      "Data types in file1:\n",
      "Unnamed: 0                 int64\n",
      "ACC                       object\n",
      "Kingdom                   object\n",
      "Partition                  int64\n",
      "Membrane                 float64\n",
      "Cytoplasm                float64\n",
      "Nucleus                  float64\n",
      "Extracellular            float64\n",
      "Cell membrane            float64\n",
      "Mitochondrion            float64\n",
      "Plastid                  float64\n",
      "Endoplasmic reticulum    float64\n",
      "Lysosome/Vacuole         float64\n",
      "Golgi apparatus          float64\n",
      "Peroxisome               float64\n",
      "Sequence                  object\n",
      "dtype: object\n",
      "Data types in file2:\n",
      "Unnamed: 0                 int64\n",
      "ACC                       object\n",
      "Kingdom                   object\n",
      "Partition                  int64\n",
      "Membrane                 float64\n",
      "Cytoplasm                float64\n",
      "Nucleus                  float64\n",
      "Extracellular            float64\n",
      "Cell membrane            float64\n",
      "Mitochondrion            float64\n",
      "Plastid                  float64\n",
      "Endoplasmic reticulum    float64\n",
      "Lysosome/Vacuole         float64\n",
      "Golgi apparatus          float64\n",
      "Peroxisome               float64\n",
      "Sequence                  object\n",
      "dtype: object\n"
     ]
    }
   ],
   "source": [
    "print(\"Data types in file1:\")\n",
    "print(file1.dtypes)\n",
    "\n",
    "# Print the data types of each column in file2\n",
    "print(\"Data types in file2:\")\n",
    "print(file2.dtypes)"
   ]
  },
  {
   "cell_type": "code",
   "execution_count": null,
   "id": "a2e4e8cd",
   "metadata": {},
   "outputs": [],
   "source": []
  }
 ],
 "metadata": {
  "kernelspec": {
   "display_name": "Python 3 (ipykernel)",
   "language": "python",
   "name": "python3"
  },
  "language_info": {
   "codemirror_mode": {
    "name": "ipython",
    "version": 3
   },
   "file_extension": ".py",
   "mimetype": "text/x-python",
   "name": "python",
   "nbconvert_exporter": "python",
   "pygments_lexer": "ipython3",
   "version": "3.11.3"
  }
 },
 "nbformat": 4,
 "nbformat_minor": 5
}
