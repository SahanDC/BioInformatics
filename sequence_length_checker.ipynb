{
 "cells": [
  {
   "cell_type": "code",
   "execution_count": 8,
   "metadata": {},
   "outputs": [],
   "source": [
    "import pandas as pd"
   ]
  },
  {
   "cell_type": "code",
   "execution_count": 7,
   "metadata": {},
   "outputs": [
    {
     "name": "stdout",
     "output_type": "stream",
     "text": [
      "Sequence Q9SSL9 has length 1123\n",
      "Sequence C0LGH2 has length 1032\n",
      "Sequence C0LGH3 has length 1033\n",
      "Sequence C0LGS2 has length 1136\n",
      "Sequence C0LGG8 has length 1038\n",
      "Sequence Q6PAJ1 has length 1270\n",
      "Sequence Q6F6B3 has length 1849\n",
      "Sequence Q0WL80 has length 1613\n",
      "Sequence P11881 has length 2749\n",
      "Sequence Q3T906 has length 1256\n",
      "Sequence P32874 has length 2273\n",
      "Sequence G5EEH9 has length 1678\n",
      "Sequence P32597 has length 1359\n",
      "Sequence O13807 has length 1072\n",
      "Sequence P59598 has length 1514\n",
      "Sequence Q10124 has length 1647\n",
      "Sequence Q05481 has length 1191\n",
      "Sequence P98133 has length 2871\n"
     ]
    }
   ],
   "source": [
    "def read_fasta(file):\n",
    "    with open(file, 'r') as f:\n",
    "        sequences = f.read().split('>')[1:]\n",
    "        sequences = [seq.split('\\n', 1) for seq in sequences]\n",
    "        sequences = [(seq[0], seq[1].replace('\\n', '')) for seq in sequences]\n",
    "    return sequences\n",
    "\n",
    "def get_sequence_lengths(sequences):\n",
    "    return [(seq[0], len(seq[1])) for seq in sequences]\n",
    "\n",
    "# replace 'fasta.txt' with your fasta file\n",
    "sequences = read_fasta('data_files/deeploc_swissprot_clipped1k.fasta')\n",
    "sequence_lengths = get_sequence_lengths(sequences)\n",
    "\n",
    "for seq_id, length in sequence_lengths:\n",
    "    if length > 1022:\n",
    "        print(f'Sequence {seq_id} has length {length}')"
   ]
  }
 ],
 "metadata": {
  "language_info": {
   "name": "python"
  }
 },
 "nbformat": 4,
 "nbformat_minor": 2
}
